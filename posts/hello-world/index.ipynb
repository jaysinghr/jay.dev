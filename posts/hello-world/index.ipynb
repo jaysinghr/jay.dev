{
 "cells": [
  {
   "cell_type": "markdown",
   "metadata": {},
   "source": [
    "---\n",
    "title: \"Hello World\"\n",
    "author: \"Your Name\"\n",
    "date: \"2022-01-01\"\n",
    "---"
   ]
  }
 ],
 "metadata": {
  "language_info": {
   "name": "python"
  },
  "orig_nbformat": 4
 },
 "nbformat": 4,
 "nbformat_minor": 2
}
